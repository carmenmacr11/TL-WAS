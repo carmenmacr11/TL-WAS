{
 "cells": [
  {
   "cell_type": "markdown",
   "metadata": {},
   "source": [
    "### cis- and trans-QTL mapping with tensorQTL: Modelo Telomeros"
   ]
  },
  {
   "cell_type": "markdown",
   "metadata": {},
   "source": [
    "Requirements\n",
    "An environment configured with a GPU and ~50GB of memory.\n"
   ]
  },
  {
   "cell_type": "code",
   "execution_count": null,
   "metadata": {},
   "outputs": [],
   "source": [
    "import pandas as pd\n",
    "import torch\n",
    "import tensorqtl\n",
    "from tensorqtl import genotypeio, cis, trans\n",
    "print(f'PyTorch {torch.__version__}')\n",
    "print(f'Pandas {pd.__version__}')"
   ]
  },
  {
   "cell_type": "markdown",
   "metadata": {},
   "source": [
    "Three inputs are required for QTL analyses with tensorQTL: genotypes, phenotypes, and covariates."
   ]
  },
  {
   "cell_type": "markdown",
   "metadata": {},
   "source": [
    "Phenotypes must be provided in BED format, with a single header line starting with # and the first four columns corresponding to: chr, start, end, phenotype_id, with the remaining columns corresponding to samples (the identifiers must match those in the genotype input). The BED file should specify the center of the cis-window (usually the TSS), with start == end-1.\n",
    "\n",
    "Covariates can be provided as a tab-delimited text file (covariates x samples) or dataframe (samples x covariates), with row and column headers.\n",
    "\n",
    "Genotypes must be in PLINK format"
   ]
  },
  {
   "cell_type": "code",
   "execution_count": null,
   "metadata": {},
   "outputs": [],
   "source": [
    "# plink2 \\\n",
    "#     --vcf /TELOMERO/genotipos/Distal.HRC_MAF0.05.PrediXcan_chr1.vcf \\\n",
    "#     --make-bed \\\n",
    "#     --output-chr chrM \\\n",
    "#     --out Distal.HRC_MAF0.05.PrediXcan_chr1"
   ]
  },
  {
   "cell_type": "code",
   "execution_count": null,
   "metadata": {},
   "outputs": [],
   "source": [
    "# Definimos el dataset:\n",
    "plink_prefix_path = 'GENOTIPO' #se necesitan los archivos bed/bim/fam\n",
    "expression_bed = 'phenotype_colon_eqtl.bed.gz'\n",
    "covariates_file = 'archivo_covariables.txt'\n",
    "prefix = 'eQTLs._samples'\n",
    "\n",
    "# load phenotypes and covariates\n",
    "phenotype_df, phenotype_pos_df = tensorqtl.read_phenotype_bed(expression_bed)\n",
    "covariates_df = pd.read_csv(covariates_file, sep='\\t', index_col=0, low_memory=False).T \n",
    "\n",
    "# PLINK reader for genotypes\n",
    "pr = genotypeio.PlinkReader(plink_prefix_path)\n",
    "genotype_df = pr.load_genotypes()\n",
    "variant_df = pr.bim.set_index('snp')[['chrom', 'pos']]"
   ]
  },
  {
   "cell_type": "code",
   "execution_count": null,
   "metadata": {},
   "outputs": [],
   "source": [
    "# map all cis-associations (results for each chromosome are written to file)\n",
    "\n",
    "# all genes\n",
    "# cis.map_nominal(genotype_df, variant_df, phenotype_df, phenotype_pos_df, covariates_df, prefix)\n",
    "cis.map_nominal(genotype_df, variant_df, phenotype_df, phenotype_pos_df, prefix, covariates_df=covariates_df)\n",
    "# genes on chr18\n",
    "# cis.map_nominal(genotype_df, variant_df,\n",
    "#                 phenotype_df.loc[phenotype_pos_df['chr']=='chr18'],\n",
    "#                 phenotype_pos_df.loc[phenotype_pos_df['chr']=='chr18'],\n",
    "#                 prefix, covariates_df=covariates_df)"
   ]
  },
  {
   "cell_type": "code",
   "execution_count": null,
   "metadata": {},
   "outputs": [],
   "source": [
    "# load results\n",
    "pairs_df = pd.read_parquet(f'{prefix}.cis_qtl_pairs.chr.parquet')\n",
    "pairs_df.head()"
   ]
  },
  {
   "cell_type": "code",
   "execution_count": null,
   "metadata": {},
   "outputs": [],
   "source": [
    "# all genes\n",
    "cis_df = cis.map_cis(genotype_df, variant_df, phenotype_df, phenotype_pos_df, covariates_df)\n",
    "\n",
    "# genes on chr18\n",
    "# cis_df = cis.map_cis(genotype_df, variant_df, \n",
    "#                      phenotype_df.loc[phenotype_pos_df['chr']=='chr18'],\n",
    "#                      phenotype_pos_df.loc[phenotype_pos_df['chr']=='chr18'],\n",
    "#                      covariates_df=covariates_df, seed=123456)"
   ]
  },
  {
   "cell_type": "code",
   "execution_count": null,
   "metadata": {},
   "outputs": [],
   "source": [
    "cis_df.head()"
   ]
  },
  {
   "cell_type": "code",
   "execution_count": null,
   "metadata": {},
   "outputs": [],
   "source": [
    "# run mapping\n",
    "# to limit output size, only associations with p-value <= 1e-5 are returned\n",
    "trans_df = trans.map_trans(genotype_df, phenotype_df,covariates_df, batch_size=10000,\n",
    "                           return_sparse=True, pval_threshold=1e-5, maf_threshold=0.05)"
   ]
  },
  {
   "cell_type": "code",
   "execution_count": null,
   "metadata": {},
   "outputs": [],
   "source": [
    "# remove cis-associations\n",
    "trans_df = trans.filter_cis(trans_df, phenotype_pos_df.T.to_dict(), variant_df, window=5000000)"
   ]
  },
  {
   "cell_type": "code",
   "execution_count": null,
   "metadata": {},
   "outputs": [],
   "source": [
    "trans_df.head(10)"
   ]
  },
  {
   "cell_type": "markdown",
   "metadata": {},
   "source": [
    "Los archivos que se generan están en formato parquet para pasarlo a un formato de txt:"
   ]
  },
  {
   "cell_type": "code",
   "execution_count": null,
   "metadata": {},
   "outputs": [],
   "source": [
    "import pandas as pd\n",
    "\n",
    "df = pd.read_parquet('input.parquet')\n",
    "df.to_csv('out.csv', index=False)             # Exporting to CSV \n",
    "df.to_csv('out.txt', index=False, sep=' ')    # Text is just a tad \n",
    "df.to_csv('out.txt', index=False, sep='\\t')   # Alternatively, you can use tab separators\n",
    "df.to_json('out.json')                        # Exporting to JSON "
   ]
  },
  {
   "cell_type": "markdown",
   "metadata": {},
   "source": [
    "Con los resultados que se obtienen se pasan a MASHR:"
   ]
  },
  {
   "cell_type": "code",
   "execution_count": null,
   "metadata": {},
   "outputs": [],
   "source": []
  }
 ],
 "metadata": {
  "kernelspec": {
   "display_name": "Python 3 (ipykernel)",
   "language": "python",
   "name": "python3"
  },
  "language_info": {
   "codemirror_mode": {
    "name": "ipython",
    "version": 3
   },
   "file_extension": ".py",
   "mimetype": "text/x-python",
   "name": "python",
   "nbconvert_exporter": "python",
   "pygments_lexer": "ipython3",
   "version": "3.9.7"
  }
 },
 "nbformat": 4,
 "nbformat_minor": 4
}
